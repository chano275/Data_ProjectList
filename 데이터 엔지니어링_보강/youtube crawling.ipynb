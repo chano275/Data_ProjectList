{
 "cells": [
  {
   "cell_type": "code",
   "execution_count": 1,
   "id": "06f4c0f7-6baf-48dd-8407-33bd9c43832b",
   "metadata": {
    "ExecuteTime": {
     "end_time": "2024-11-14T07:50:53.646101Z",
     "start_time": "2024-11-14T07:49:53.333127Z"
    }
   },
   "outputs": [
    {
     "name": "stdout",
     "output_type": "stream",
     "text": [
      "댓글 추출이 완료되었습니다. youtube_comments.csv 파일로 저장되었습니다.\n"
     ]
    }
   ],
   "source": [
    "# 필요한 라이브러리 설치 코드\n",
    "# pip install selenium webdriver-manager pandas\n",
    "\n",
    "from selenium import webdriver\n",
    "from selenium.webdriver.common.by import By\n",
    "from selenium.webdriver.common.keys import Keys\n",
    "from selenium.webdriver.chrome.service import Service\n",
    "from webdriver_manager.chrome import ChromeDriverManager\n",
    "import time\n",
    "import pandas as pd\n",
    "\n",
    "def get_youtube_comments(video_url):\n",
    "    # WebDriver 설정\n",
    "    options = webdriver.ChromeOptions()\n",
    "    options.add_argument('--headless')  # 브라우저 창을 표시하지 않음\n",
    "    options.add_argument('--no-sandbox')\n",
    "    options.add_argument('--disable-dev-shm-usage')\n",
    "    driver = webdriver.Chrome(service=Service(ChromeDriverManager().install()), options=options)\n",
    "\n",
    "    try:\n",
    "        # 유튜브 동영상 페이지 열기\n",
    "        driver.get(video_url)\n",
    "        time.sleep(5)  # 페이지 로딩 대기\n",
    "\n",
    "        # 페이지 아래로 스크롤하여 댓글 로드\n",
    "        body = driver.find_element(By.TAG_NAME, \"body\")\n",
    "        for _ in range(20):  # 스크롤 횟수를 조정하여 더 많은 댓글을 로드할 수 있음\n",
    "            body.send_keys(Keys.PAGE_DOWN)\n",
    "            time.sleep(1.5)\n",
    "\n",
    "        # 댓글 요소 추출\n",
    "        comment_elements = driver.find_elements(By.XPATH, '//*[@id=\"content-text\"]/span')\n",
    "        comments = [comment.text for comment in comment_elements]\n",
    "        \n",
    "        \n",
    "\n",
    "        # 결과 출력\n",
    "        return comments\n",
    "\n",
    "    finally:\n",
    "        driver.quit()\n",
    "\n",
    "if __name__ == \"__main__\":\n",
    "    # 유튜브 동영상 URL 입력\n",
    "    video_url = input(\"유튜브 동영상 링크를 입력하세요: \")\n",
    "    comments = get_youtube_comments(video_url)\n",
    "\n",
    "    # 결과를 CSV 파일로 저장\n",
    "    df = pd.DataFrame(comments, columns=[\"Comment\"])\n",
    "    df.to_csv(\"youtube_comments2.csv\", index=False, encoding=\"utf-8-sig\")\n",
    "\n",
    "    print(\"댓글 추출이 완료되었습니다. youtube_comments.csv 파일로 저장되었습니다.\")\n"
   ]
  },
  {
   "cell_type": "code",
   "execution_count": null,
   "id": "483208ad84af9abf",
   "metadata": {},
   "outputs": [],
   "source": []
  }
 ],
 "metadata": {
  "kernelspec": {
   "display_name": "Python 3 (ipykernel)",
   "language": "python",
   "name": "python3"
  },
  "language_info": {
   "codemirror_mode": {
    "name": "ipython",
    "version": 3
   },
   "file_extension": ".py",
   "mimetype": "text/x-python",
   "name": "python",
   "nbconvert_exporter": "python",
   "pygments_lexer": "ipython3",
   "version": "3.9.13"
  }
 },
 "nbformat": 4,
 "nbformat_minor": 5
}
